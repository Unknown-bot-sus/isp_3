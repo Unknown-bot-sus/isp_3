{
 "cells": [
  {
   "cell_type": "code",
   "execution_count": 3,
   "id": "cdcdcacf-1b10-4fb2-be72-98b61803c080",
   "metadata": {},
   "outputs": [
    {
     "name": "stdout",
     "output_type": "stream",
     "text": [
      "Sucessfully decoded: Mom I will not be home for supper\n"
     ]
    }
   ],
   "source": [
    "# Use wave package (native to Python) for reading the received audio file\n",
    "import wave\n",
    "song = wave.open(\"./sounds/Ex3_sound1.wav\", mode='rb')\n",
    "# Convert audio to byte array\n",
    "frame_bytes = bytearray(list(song.readframes(song.getnframes())))\n",
    "\n",
    "# Extract the LSB of each byte\n",
    "extracted = [frame_bytes[i] & 1 for i in range(len(frame_bytes))]\n",
    "# Convert byte array back to string\n",
    "string = \"\".join(chr(int(\"\".join(map(str,extracted[i:i+8])),2)) for i in range(0,len(extracted),8))\n",
    "# Cut off at the filler characters\n",
    "decoded = string.split(\"###\")[0]\n",
    "\n",
    "# Print the extracted text\n",
    "print(\"Sucessfully decoded: \"+decoded)\n",
    "song.close()"
   ]
  },
  {
   "cell_type": "code",
   "execution_count": 4,
   "id": "f32dd215-320a-46a0-a0ac-7e55ac873343",
   "metadata": {},
   "outputs": [
    {
     "ename": "ModuleNotFoundError",
     "evalue": "No module named 'librosa'",
     "output_type": "error",
     "traceback": [
      "\u001b[1;31m---------------------------------------------------------------------------\u001b[0m",
      "\u001b[1;31mModuleNotFoundError\u001b[0m                       Traceback (most recent call last)",
      "Cell \u001b[1;32mIn[4], line 1\u001b[0m\n\u001b[1;32m----> 1\u001b[0m \u001b[38;5;28;01mimport\u001b[39;00m \u001b[38;5;21;01mlibrosa\u001b[39;00m\n",
      "\u001b[1;31mModuleNotFoundError\u001b[0m: No module named 'librosa'"
     ]
    }
   ],
   "source": [
    "import librosa"
   ]
  },
  {
   "cell_type": "code",
   "execution_count": null,
   "id": "8bf5eb70-42f7-47d9-931c-7818ab256aa8",
   "metadata": {},
   "outputs": [],
   "source": []
  }
 ],
 "metadata": {
  "kernelspec": {
   "display_name": "Python 3 (ipykernel)",
   "language": "python",
   "name": "python3"
  },
  "language_info": {
   "codemirror_mode": {
    "name": "ipython",
    "version": 3
   },
   "file_extension": ".py",
   "mimetype": "text/x-python",
   "name": "python",
   "nbconvert_exporter": "python",
   "pygments_lexer": "ipython3",
   "version": "3.10.5"
  }
 },
 "nbformat": 4,
 "nbformat_minor": 5
}
